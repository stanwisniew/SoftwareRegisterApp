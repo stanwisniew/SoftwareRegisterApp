{
  "nbformat": 4,
  "nbformat_minor": 0,
  "metadata": {
    "colab": {
      "provenance": [],
      "gpuType": "T4",
      "authorship_tag": "ABX9TyND1q81wy9ZNRvxbyALnwFQ",
      "include_colab_link": true
    },
    "kernelspec": {
      "name": "python3",
      "display_name": "Python 3"
    },
    "language_info": {
      "name": "python"
    },
    "accelerator": "GPU",
    "widgets": {
      "application/vnd.jupyter.widget-state+json": {
        "4af8a48ce515487e8cc10426b21d68ce": {
          "model_module": "@jupyter-widgets/controls",
          "model_name": "VBoxModel",
          "model_module_version": "1.5.0",
          "state": {
            "_dom_classes": [],
            "_model_module": "@jupyter-widgets/controls",
            "_model_module_version": "1.5.0",
            "_model_name": "VBoxModel",
            "_view_count": null,
            "_view_module": "@jupyter-widgets/controls",
            "_view_module_version": "1.5.0",
            "_view_name": "VBoxView",
            "box_style": "",
            "children": [],
            "layout": "IPY_MODEL_0fe62754b1eb4f9e9c2d7c09c88c0565"
          }
        },
        "e34dadbd27ed497090565d17bbfc3866": {
          "model_module": "@jupyter-widgets/controls",
          "model_name": "HTMLModel",
          "model_module_version": "1.5.0",
          "state": {
            "_dom_classes": [],
            "_model_module": "@jupyter-widgets/controls",
            "_model_module_version": "1.5.0",
            "_model_name": "HTMLModel",
            "_view_count": null,
            "_view_module": "@jupyter-widgets/controls",
            "_view_module_version": "1.5.0",
            "_view_name": "HTMLView",
            "description": "",
            "description_tooltip": null,
            "layout": "IPY_MODEL_e42d09120ae3499d88f8010c69b3c30c",
            "placeholder": "​",
            "style": "IPY_MODEL_d0b4aa3e49304c0e87e60dca3acb061d",
            "value": "<center> <img\nsrc=https://huggingface.co/front/assets/huggingface_logo-noborder.svg\nalt='Hugging Face'> <br> Copy a token from <a\nhref=\"https://huggingface.co/settings/tokens\" target=\"_blank\">your Hugging Face\ntokens page</a> and paste it below. <br> Immediately click login after copying\nyour token or it might be stored in plain text in this notebook file. </center>"
          }
        },
        "d7b3d7f945e644179efd2fefc99341f1": {
          "model_module": "@jupyter-widgets/controls",
          "model_name": "PasswordModel",
          "model_module_version": "1.5.0",
          "state": {
            "_dom_classes": [],
            "_model_module": "@jupyter-widgets/controls",
            "_model_module_version": "1.5.0",
            "_model_name": "PasswordModel",
            "_view_count": null,
            "_view_module": "@jupyter-widgets/controls",
            "_view_module_version": "1.5.0",
            "_view_name": "PasswordView",
            "continuous_update": true,
            "description": "Token:",
            "description_tooltip": null,
            "disabled": false,
            "layout": "IPY_MODEL_bbec8ec3797246e5ad2e0e1745747379",
            "placeholder": "​",
            "style": "IPY_MODEL_7d48f02b0ba942b78478e7711db223a5",
            "value": ""
          }
        },
        "5028182a0ec1403883e6b4d8aadbf40c": {
          "model_module": "@jupyter-widgets/controls",
          "model_name": "CheckboxModel",
          "model_module_version": "1.5.0",
          "state": {
            "_dom_classes": [],
            "_model_module": "@jupyter-widgets/controls",
            "_model_module_version": "1.5.0",
            "_model_name": "CheckboxModel",
            "_view_count": null,
            "_view_module": "@jupyter-widgets/controls",
            "_view_module_version": "1.5.0",
            "_view_name": "CheckboxView",
            "description": "Add token as git credential?",
            "description_tooltip": null,
            "disabled": false,
            "indent": true,
            "layout": "IPY_MODEL_f505209f932841149b85ce32760a1c3a",
            "style": "IPY_MODEL_90ec3b963f224b9193c23834f4b4498e",
            "value": true
          }
        },
        "930d2375d162400388e4300a71789924": {
          "model_module": "@jupyter-widgets/controls",
          "model_name": "ButtonModel",
          "model_module_version": "1.5.0",
          "state": {
            "_dom_classes": [],
            "_model_module": "@jupyter-widgets/controls",
            "_model_module_version": "1.5.0",
            "_model_name": "ButtonModel",
            "_view_count": null,
            "_view_module": "@jupyter-widgets/controls",
            "_view_module_version": "1.5.0",
            "_view_name": "ButtonView",
            "button_style": "",
            "description": "Login",
            "disabled": false,
            "icon": "",
            "layout": "IPY_MODEL_b64121b5d64f4ffd960c243e266c1c6a",
            "style": "IPY_MODEL_0eb8da93dc2e4020bbf737ba36909390",
            "tooltip": ""
          }
        },
        "5bf4f24c4dea4d52810c4af4613c5e45": {
          "model_module": "@jupyter-widgets/controls",
          "model_name": "HTMLModel",
          "model_module_version": "1.5.0",
          "state": {
            "_dom_classes": [],
            "_model_module": "@jupyter-widgets/controls",
            "_model_module_version": "1.5.0",
            "_model_name": "HTMLModel",
            "_view_count": null,
            "_view_module": "@jupyter-widgets/controls",
            "_view_module_version": "1.5.0",
            "_view_name": "HTMLView",
            "description": "",
            "description_tooltip": null,
            "layout": "IPY_MODEL_a9af78ade6044aa981929d915beb8d0a",
            "placeholder": "​",
            "style": "IPY_MODEL_1cb693b71b794dfea08dd3d22b123785",
            "value": "\n<b>Pro Tip:</b> If you don't already have one, you can create a dedicated\n'notebooks' token with 'write' access, that you can then easily reuse for all\nnotebooks. </center>"
          }
        },
        "0fe62754b1eb4f9e9c2d7c09c88c0565": {
          "model_module": "@jupyter-widgets/base",
          "model_name": "LayoutModel",
          "model_module_version": "1.2.0",
          "state": {
            "_model_module": "@jupyter-widgets/base",
            "_model_module_version": "1.2.0",
            "_model_name": "LayoutModel",
            "_view_count": null,
            "_view_module": "@jupyter-widgets/base",
            "_view_module_version": "1.2.0",
            "_view_name": "LayoutView",
            "align_content": null,
            "align_items": "center",
            "align_self": null,
            "border": null,
            "bottom": null,
            "display": "flex",
            "flex": null,
            "flex_flow": "column",
            "grid_area": null,
            "grid_auto_columns": null,
            "grid_auto_flow": null,
            "grid_auto_rows": null,
            "grid_column": null,
            "grid_gap": null,
            "grid_row": null,
            "grid_template_areas": null,
            "grid_template_columns": null,
            "grid_template_rows": null,
            "height": null,
            "justify_content": null,
            "justify_items": null,
            "left": null,
            "margin": null,
            "max_height": null,
            "max_width": null,
            "min_height": null,
            "min_width": null,
            "object_fit": null,
            "object_position": null,
            "order": null,
            "overflow": null,
            "overflow_x": null,
            "overflow_y": null,
            "padding": null,
            "right": null,
            "top": null,
            "visibility": null,
            "width": "50%"
          }
        },
        "e42d09120ae3499d88f8010c69b3c30c": {
          "model_module": "@jupyter-widgets/base",
          "model_name": "LayoutModel",
          "model_module_version": "1.2.0",
          "state": {
            "_model_module": "@jupyter-widgets/base",
            "_model_module_version": "1.2.0",
            "_model_name": "LayoutModel",
            "_view_count": null,
            "_view_module": "@jupyter-widgets/base",
            "_view_module_version": "1.2.0",
            "_view_name": "LayoutView",
            "align_content": null,
            "align_items": null,
            "align_self": null,
            "border": null,
            "bottom": null,
            "display": null,
            "flex": null,
            "flex_flow": null,
            "grid_area": null,
            "grid_auto_columns": null,
            "grid_auto_flow": null,
            "grid_auto_rows": null,
            "grid_column": null,
            "grid_gap": null,
            "grid_row": null,
            "grid_template_areas": null,
            "grid_template_columns": null,
            "grid_template_rows": null,
            "height": null,
            "justify_content": null,
            "justify_items": null,
            "left": null,
            "margin": null,
            "max_height": null,
            "max_width": null,
            "min_height": null,
            "min_width": null,
            "object_fit": null,
            "object_position": null,
            "order": null,
            "overflow": null,
            "overflow_x": null,
            "overflow_y": null,
            "padding": null,
            "right": null,
            "top": null,
            "visibility": null,
            "width": null
          }
        },
        "d0b4aa3e49304c0e87e60dca3acb061d": {
          "model_module": "@jupyter-widgets/controls",
          "model_name": "DescriptionStyleModel",
          "model_module_version": "1.5.0",
          "state": {
            "_model_module": "@jupyter-widgets/controls",
            "_model_module_version": "1.5.0",
            "_model_name": "DescriptionStyleModel",
            "_view_count": null,
            "_view_module": "@jupyter-widgets/base",
            "_view_module_version": "1.2.0",
            "_view_name": "StyleView",
            "description_width": ""
          }
        },
        "bbec8ec3797246e5ad2e0e1745747379": {
          "model_module": "@jupyter-widgets/base",
          "model_name": "LayoutModel",
          "model_module_version": "1.2.0",
          "state": {
            "_model_module": "@jupyter-widgets/base",
            "_model_module_version": "1.2.0",
            "_model_name": "LayoutModel",
            "_view_count": null,
            "_view_module": "@jupyter-widgets/base",
            "_view_module_version": "1.2.0",
            "_view_name": "LayoutView",
            "align_content": null,
            "align_items": null,
            "align_self": null,
            "border": null,
            "bottom": null,
            "display": null,
            "flex": null,
            "flex_flow": null,
            "grid_area": null,
            "grid_auto_columns": null,
            "grid_auto_flow": null,
            "grid_auto_rows": null,
            "grid_column": null,
            "grid_gap": null,
            "grid_row": null,
            "grid_template_areas": null,
            "grid_template_columns": null,
            "grid_template_rows": null,
            "height": null,
            "justify_content": null,
            "justify_items": null,
            "left": null,
            "margin": null,
            "max_height": null,
            "max_width": null,
            "min_height": null,
            "min_width": null,
            "object_fit": null,
            "object_position": null,
            "order": null,
            "overflow": null,
            "overflow_x": null,
            "overflow_y": null,
            "padding": null,
            "right": null,
            "top": null,
            "visibility": null,
            "width": null
          }
        },
        "7d48f02b0ba942b78478e7711db223a5": {
          "model_module": "@jupyter-widgets/controls",
          "model_name": "DescriptionStyleModel",
          "model_module_version": "1.5.0",
          "state": {
            "_model_module": "@jupyter-widgets/controls",
            "_model_module_version": "1.5.0",
            "_model_name": "DescriptionStyleModel",
            "_view_count": null,
            "_view_module": "@jupyter-widgets/base",
            "_view_module_version": "1.2.0",
            "_view_name": "StyleView",
            "description_width": ""
          }
        },
        "f505209f932841149b85ce32760a1c3a": {
          "model_module": "@jupyter-widgets/base",
          "model_name": "LayoutModel",
          "model_module_version": "1.2.0",
          "state": {
            "_model_module": "@jupyter-widgets/base",
            "_model_module_version": "1.2.0",
            "_model_name": "LayoutModel",
            "_view_count": null,
            "_view_module": "@jupyter-widgets/base",
            "_view_module_version": "1.2.0",
            "_view_name": "LayoutView",
            "align_content": null,
            "align_items": null,
            "align_self": null,
            "border": null,
            "bottom": null,
            "display": null,
            "flex": null,
            "flex_flow": null,
            "grid_area": null,
            "grid_auto_columns": null,
            "grid_auto_flow": null,
            "grid_auto_rows": null,
            "grid_column": null,
            "grid_gap": null,
            "grid_row": null,
            "grid_template_areas": null,
            "grid_template_columns": null,
            "grid_template_rows": null,
            "height": null,
            "justify_content": null,
            "justify_items": null,
            "left": null,
            "margin": null,
            "max_height": null,
            "max_width": null,
            "min_height": null,
            "min_width": null,
            "object_fit": null,
            "object_position": null,
            "order": null,
            "overflow": null,
            "overflow_x": null,
            "overflow_y": null,
            "padding": null,
            "right": null,
            "top": null,
            "visibility": null,
            "width": null
          }
        },
        "90ec3b963f224b9193c23834f4b4498e": {
          "model_module": "@jupyter-widgets/controls",
          "model_name": "DescriptionStyleModel",
          "model_module_version": "1.5.0",
          "state": {
            "_model_module": "@jupyter-widgets/controls",
            "_model_module_version": "1.5.0",
            "_model_name": "DescriptionStyleModel",
            "_view_count": null,
            "_view_module": "@jupyter-widgets/base",
            "_view_module_version": "1.2.0",
            "_view_name": "StyleView",
            "description_width": ""
          }
        },
        "b64121b5d64f4ffd960c243e266c1c6a": {
          "model_module": "@jupyter-widgets/base",
          "model_name": "LayoutModel",
          "model_module_version": "1.2.0",
          "state": {
            "_model_module": "@jupyter-widgets/base",
            "_model_module_version": "1.2.0",
            "_model_name": "LayoutModel",
            "_view_count": null,
            "_view_module": "@jupyter-widgets/base",
            "_view_module_version": "1.2.0",
            "_view_name": "LayoutView",
            "align_content": null,
            "align_items": null,
            "align_self": null,
            "border": null,
            "bottom": null,
            "display": null,
            "flex": null,
            "flex_flow": null,
            "grid_area": null,
            "grid_auto_columns": null,
            "grid_auto_flow": null,
            "grid_auto_rows": null,
            "grid_column": null,
            "grid_gap": null,
            "grid_row": null,
            "grid_template_areas": null,
            "grid_template_columns": null,
            "grid_template_rows": null,
            "height": null,
            "justify_content": null,
            "justify_items": null,
            "left": null,
            "margin": null,
            "max_height": null,
            "max_width": null,
            "min_height": null,
            "min_width": null,
            "object_fit": null,
            "object_position": null,
            "order": null,
            "overflow": null,
            "overflow_x": null,
            "overflow_y": null,
            "padding": null,
            "right": null,
            "top": null,
            "visibility": null,
            "width": null
          }
        },
        "0eb8da93dc2e4020bbf737ba36909390": {
          "model_module": "@jupyter-widgets/controls",
          "model_name": "ButtonStyleModel",
          "model_module_version": "1.5.0",
          "state": {
            "_model_module": "@jupyter-widgets/controls",
            "_model_module_version": "1.5.0",
            "_model_name": "ButtonStyleModel",
            "_view_count": null,
            "_view_module": "@jupyter-widgets/base",
            "_view_module_version": "1.2.0",
            "_view_name": "StyleView",
            "button_color": null,
            "font_weight": ""
          }
        },
        "a9af78ade6044aa981929d915beb8d0a": {
          "model_module": "@jupyter-widgets/base",
          "model_name": "LayoutModel",
          "model_module_version": "1.2.0",
          "state": {
            "_model_module": "@jupyter-widgets/base",
            "_model_module_version": "1.2.0",
            "_model_name": "LayoutModel",
            "_view_count": null,
            "_view_module": "@jupyter-widgets/base",
            "_view_module_version": "1.2.0",
            "_view_name": "LayoutView",
            "align_content": null,
            "align_items": null,
            "align_self": null,
            "border": null,
            "bottom": null,
            "display": null,
            "flex": null,
            "flex_flow": null,
            "grid_area": null,
            "grid_auto_columns": null,
            "grid_auto_flow": null,
            "grid_auto_rows": null,
            "grid_column": null,
            "grid_gap": null,
            "grid_row": null,
            "grid_template_areas": null,
            "grid_template_columns": null,
            "grid_template_rows": null,
            "height": null,
            "justify_content": null,
            "justify_items": null,
            "left": null,
            "margin": null,
            "max_height": null,
            "max_width": null,
            "min_height": null,
            "min_width": null,
            "object_fit": null,
            "object_position": null,
            "order": null,
            "overflow": null,
            "overflow_x": null,
            "overflow_y": null,
            "padding": null,
            "right": null,
            "top": null,
            "visibility": null,
            "width": null
          }
        },
        "1cb693b71b794dfea08dd3d22b123785": {
          "model_module": "@jupyter-widgets/controls",
          "model_name": "DescriptionStyleModel",
          "model_module_version": "1.5.0",
          "state": {
            "_model_module": "@jupyter-widgets/controls",
            "_model_module_version": "1.5.0",
            "_model_name": "DescriptionStyleModel",
            "_view_count": null,
            "_view_module": "@jupyter-widgets/base",
            "_view_module_version": "1.2.0",
            "_view_name": "StyleView",
            "description_width": ""
          }
        },
        "e37dd7c5dbe9472fbdc56a2db29e1db4": {
          "model_module": "@jupyter-widgets/controls",
          "model_name": "LabelModel",
          "model_module_version": "1.5.0",
          "state": {
            "_dom_classes": [],
            "_model_module": "@jupyter-widgets/controls",
            "_model_module_version": "1.5.0",
            "_model_name": "LabelModel",
            "_view_count": null,
            "_view_module": "@jupyter-widgets/controls",
            "_view_module_version": "1.5.0",
            "_view_name": "LabelView",
            "description": "",
            "description_tooltip": null,
            "layout": "IPY_MODEL_c47b6895c8ce46cd828689642fc9ffba",
            "placeholder": "​",
            "style": "IPY_MODEL_1fe85bc40c324d6bb83ad1ad4cfb7dfa",
            "value": "Connecting..."
          }
        },
        "c47b6895c8ce46cd828689642fc9ffba": {
          "model_module": "@jupyter-widgets/base",
          "model_name": "LayoutModel",
          "model_module_version": "1.2.0",
          "state": {
            "_model_module": "@jupyter-widgets/base",
            "_model_module_version": "1.2.0",
            "_model_name": "LayoutModel",
            "_view_count": null,
            "_view_module": "@jupyter-widgets/base",
            "_view_module_version": "1.2.0",
            "_view_name": "LayoutView",
            "align_content": null,
            "align_items": null,
            "align_self": null,
            "border": null,
            "bottom": null,
            "display": null,
            "flex": null,
            "flex_flow": null,
            "grid_area": null,
            "grid_auto_columns": null,
            "grid_auto_flow": null,
            "grid_auto_rows": null,
            "grid_column": null,
            "grid_gap": null,
            "grid_row": null,
            "grid_template_areas": null,
            "grid_template_columns": null,
            "grid_template_rows": null,
            "height": null,
            "justify_content": null,
            "justify_items": null,
            "left": null,
            "margin": null,
            "max_height": null,
            "max_width": null,
            "min_height": null,
            "min_width": null,
            "object_fit": null,
            "object_position": null,
            "order": null,
            "overflow": null,
            "overflow_x": null,
            "overflow_y": null,
            "padding": null,
            "right": null,
            "top": null,
            "visibility": null,
            "width": null
          }
        },
        "1fe85bc40c324d6bb83ad1ad4cfb7dfa": {
          "model_module": "@jupyter-widgets/controls",
          "model_name": "DescriptionStyleModel",
          "model_module_version": "1.5.0",
          "state": {
            "_model_module": "@jupyter-widgets/controls",
            "_model_module_version": "1.5.0",
            "_model_name": "DescriptionStyleModel",
            "_view_count": null,
            "_view_module": "@jupyter-widgets/base",
            "_view_module_version": "1.2.0",
            "_view_name": "StyleView",
            "description_width": ""
          }
        }
      }
    }
  },
  "cells": [
    {
      "cell_type": "markdown",
      "metadata": {
        "id": "view-in-github",
        "colab_type": "text"
      },
      "source": [
        "<a href=\"https://colab.research.google.com/github/stanwisniew/SoftwareRegisterApp/blob/main/QuestionAndAnswerforPDF.ipynb\" target=\"_parent\"><img src=\"https://colab.research.google.com/assets/colab-badge.svg\" alt=\"Open In Colab\"/></a>"
      ]
    },
    {
      "cell_type": "code",
      "execution_count": 4,
      "metadata": {
        "id": "QUkDQ78-lEsn",
        "colab": {
          "base_uri": "https://localhost:8080/",
          "height": 17,
          "referenced_widgets": [
            "4af8a48ce515487e8cc10426b21d68ce",
            "e34dadbd27ed497090565d17bbfc3866",
            "d7b3d7f945e644179efd2fefc99341f1",
            "5028182a0ec1403883e6b4d8aadbf40c",
            "930d2375d162400388e4300a71789924",
            "5bf4f24c4dea4d52810c4af4613c5e45",
            "0fe62754b1eb4f9e9c2d7c09c88c0565",
            "e42d09120ae3499d88f8010c69b3c30c",
            "d0b4aa3e49304c0e87e60dca3acb061d",
            "bbec8ec3797246e5ad2e0e1745747379",
            "7d48f02b0ba942b78478e7711db223a5",
            "f505209f932841149b85ce32760a1c3a",
            "90ec3b963f224b9193c23834f4b4498e",
            "b64121b5d64f4ffd960c243e266c1c6a",
            "0eb8da93dc2e4020bbf737ba36909390",
            "a9af78ade6044aa981929d915beb8d0a",
            "1cb693b71b794dfea08dd3d22b123785",
            "e37dd7c5dbe9472fbdc56a2db29e1db4",
            "c47b6895c8ce46cd828689642fc9ffba",
            "1fe85bc40c324d6bb83ad1ad4cfb7dfa"
          ]
        },
        "outputId": "abda26ec-20e7-4f3c-b8da-bd929d5074fb"
      },
      "outputs": [
        {
          "output_type": "display_data",
          "data": {
            "text/plain": [
              "VBox(children=(HTML(value='<center> <img\\nsrc=https://huggingface.co/front/assets/huggingface_logo-noborder.sv…"
            ],
            "application/vnd.jupyter.widget-view+json": {
              "version_major": 2,
              "version_minor": 0,
              "model_id": "4af8a48ce515487e8cc10426b21d68ce"
            }
          },
          "metadata": {}
        }
      ],
      "source": [
        "import fitz\n",
        "from transformers import AutoTokenizer, AutoModelForCausalLM\n",
        "from huggingface_hub import login\n",
        "import torch\n",
        "\n",
        "# This will prompt you for your Hugging Face token\n",
        "login()\n",
        "\n",
        "\n"
      ]
    },
    {
      "cell_type": "code",
      "source": [
        "# Extract text from PDF and split it into chunks\n",
        "def extract_and_chunk_pdf(pdf_path, chunk_size=512):\n",
        "    doc = fitz.open(pdf_path)\n",
        "    text = \"\"\n",
        "    for page_num in range(doc.page_count):\n",
        "        page = doc.load_page(page_num)\n",
        "        text += page.get_text()\n",
        "\n",
        "    # Split text into chunks of chunk_size tokens\n",
        "    chunks = [text[i:i + chunk_size] for i in range(0, len(text), chunk_size)]\n",
        "    return chunks"
      ],
      "metadata": {
        "id": "5ZT7tCPmY9jk"
      },
      "execution_count": 10,
      "outputs": []
    },
    {
      "cell_type": "code",
      "source": [
        "# Example usage\n",
        "pdf_path = \"/content/Fiat Car Configurator.pdf\"\n",
        "chunks = extract_and_chunk_pdf(pdf_path, chunk_size=512)\n",
        "print(chunks[:500])  # Print the first 500 characters for a preview\n",
        "\n",
        "# Load pre-trained Llama 2 tokenizer and model using AutoModel\n",
        "model_name = \"Qwen/Qwen2.5-1.5B-Instruct\"\n",
        "\n",
        "print(f\"Number of chunks: {len(chunks)}\")\n",
        "\n"
      ],
      "metadata": {
        "colab": {
          "base_uri": "https://localhost:8080/"
        },
        "id": "rldgUknzbEMA",
        "outputId": "c87e38f6-5466-4767-f5b4-e938d504b511"
      },
      "execution_count": 30,
      "outputs": [
        {
          "output_type": "stream",
          "name": "stdout",
          "text": [
            "['600 1.2 100HP HYBRID 6 SPEED AUTO\\n600 1.2 100HP HYBRID 6 SPEED AUTO\\nTHE FIAT YOU HAVE CHOSEN\\nRetail price\\n£ 23,975\\nTotal price\\n£ 23,975\\nIn case of FCA Bank financing, refer to the following pages \\nfor further details.\\nYour Fiat Code is\\n5F3DEC00\\nThe Fiat code and QR Code identify options chosen \\nby you.* Take these codes to your dealer so that \\nyour configuration can be replicated automatically \\nand you can ask for an estimate for your car.\\n*After 45 days, the codes may no longer be valid\\nVehicles in stock\\nD', 'ealer locator\\nTest drive\\n600 1.2 100HP HYBRID 6 SPEED AUTO\\n14-11-24 | FIAT CODE 5F3DEC00\\n2\\nCOLOURS AND WHEELS\\nRed\\nSTANDARD\\n17\" Alloy Wheels With Diamond-Cut Finishing\\n£ 0\\n600 1.2 100HP HYBRID 6 SPEED AUTO\\n14-11-24 | FIAT CODE 5F3DEC00\\n3\\nSTANDARD EQUIPMENT\\nAUDIO / TELEMATICS\\n4 Speakers Audio System\\nUconnect™ Infotainment Touchscreen 10\\'\\' with Wireless Apple Carplay / \\nAndroid Auto\\nCOMFORT/FUNCTIONALITY\\n7\\'\\' TFT Digital Cluster\\nManual Air Conditioning\\nConnected Services\\nPaddle Shifters on Steering Wheel\\nCruise', ' Control\\nRear Headrest\\nElectric Parking Brake\\nRear Parking Sensors\\nFront Seatback Pockets\\nSynthetic Leather Steering Wheel with Audio Controls\\nSAFETY & SECURITY\\nAutonomous Emergency Brake\\nFix & Go Puncture Repair Kit\\nEmergency E-Call Assist\\nRain and Dusk Sensor\\nSTYLING\\nGlossy Black B-Pillar\\nLED Reflectors Headlamps\\n600 1.2 100HP HYBRID 6 SPEED AUTO\\n14-11-24 | FIAT CODE 5F3DEC00\\n4\\n.\\nLED Rear Signature Lights\\nTunnel Pad Cover\\n600 1.2 100HP HYBRID 6 SPEED AUTO\\n14-11-24 | FIAT CODE 5F3DEC00\\n5\\nINTERIORS\\nFiat Bla', 'ck & Ivory Bi-Colour Fabric Seats\\nSTANDARD\\n600 1.2 100HP HYBRID 6 SPEED AUTO\\n14-11-24 | FIAT CODE 5F3DEC00\\n6\\nPACK\\nSTYLE PACK\\nSTANDARD\\n17\" Alloy Wheels With Diamond-Cut Finishing\\nG\\nFiat Black & Ivory Bi-Colour Fabric Seats\\nG\\nHeated Windscreen Wiper Blade Area\\nG\\nLED Front Turn Indicator & Position Lights\\nG\\nElectrochromatic Rear View Mirror\\nG\\nFront Heated Seats\\nG\\nChromed DLO & 600 Signature\\nG\\nChromed Internal Door Handles\\nG\\nPainted Dasboard Fascia\\nG\\nGlossy Black Door Mirror Covers\\nG\\nLed Fog Lamps with Cornerin', 'g Function\\nG\\n600 1.2 100HP HYBRID 6 SPEED AUTO\\n14-11-24 | FIAT CODE 5F3DEC00\\n7\\nTECHNICAL SPECIFICATION\\nPERFORMANCE\\nAcceleration 0-62 mph (sec)\\n10,9\\nWLTP Fuel consumption Low mpg (l/100km)\\n72.4 (3.9)\\nTop Speed (mph)\\n114\\nFuel consumption Medium mpg (l/100km)\\n64.2 (4.4)\\nCO2 emission Combined (g/km)\\n109\\nWLTP Fuel consumption High mpg (l/100km)\\n64.2 (4.4)\\nWLTP FUEL CONSUMPTION COMBINED mpg (l/100km)\\n58.9 \\n(4.8)\\nFuel consumption Extra High mpg (l/100km)\\n47.9 (5.9)\\nDIMENSIONS\\nNo. of Seats\\n5\\nWheelbase (mm)\\n2557\\nLen', 'gth (mm)\\n4171\\nWidth folded mirrors [mm]\\n1981\\nWidth (mm)\\n1781\\nMax. Loadspace Volume (m3)\\n1256\\nHeight (mm)\\n1536\\nSTEERING\\nTurning Circle (m)\\n10,5\\nENGINE CHARACTERISTICS\\nEngine\\n1.2 100hp Hybrid 6 speed Auto\\nEngine Capacity (l)\\n1,2\\nFuel Type\\nMild Hybrid\\nEngine Capacity (cc)\\n1199\\nFuel characteristic\\nUnleaded 95\\nNo. of Cylinders\\n3\\nMax Power (hp)\\n100\\nCavalli Fiscali\\n100\\nMax Power (kW)\\n74\\nHybrid Enging Power kW HP\\n21\\nTorque (Nm)\\n205\\n600 1.2 100HP HYBRID 6 SPEED AUTO\\n14-11-24 | FIAT CODE 5F3DEC00\\n8\\n.\\nTRANSMISSION\\nDri', 've Type\\nFWD\\nNumber of Gears\\n6\\nTransmission\\nDCT6\\nGears\\n6\\nGearbox Selection Type\\neDCT\\nBRAKES\\nBrakes: Front\\nDisc\\nBrake Dimension: Front (Ø mm)\\n302 x 26\\nBrakes: Rear\\nDisc\\nBrake Dimension: Rear (Ø mm)\\n249 x 10\\nSUSPENSION SYSTEM\\nSuspension: Front\\nMacPherson\\nSuspension: Rear\\nTwist Beam\\nTYRES\\nTyres: Front\\n215/60 R17\\nTyres: Rear\\n215/60 R17\\n600 1.2 100HP HYBRID 6 SPEED AUTO\\n14-11-24 | FIAT CODE 5F3DEC00\\n9\\n.\\nWEIGHTS AND SUPPLIES\\nKerb Weight (kg)\\n1280\\nFuel Tank Capacity (l)\\n44\\nOTHER\\nBody Type\\nHatchback\\nDoors: Front\\nTra', 'ditional\\nVehicle roof\\nNormal\\nTowing Weight: Unbraked (kg)\\n1100\\nNo. of Doors\\n5\\nTowing Weight: Braked (kg)\\n1100\\nThe value of CO2 emissions, electric range (if applicable) and fuel consumption are defined on the basis of official tests in accordance with the provisions of Regulations in force at the time of type approval. In particular, the indicated values are determined according to the WLTP test procedure. \\nOnly compare fuel consumption, CO2 and electric range (if applicable) figures with other cars tested ', 'to the same technical procedures. For PHEV vehicles the figures were obtained using a combination of battery power and fuel. For BEV vehicles the figures were obtained after the battery had \\nbeen fully charged. Both PHEV and BEV vehicles require mains electricity for charging. \\n \\nThe CO2, electric range (if applicable) and fuel consumption values obtained according to the applicable legislation are indicated in order to allow the comparison of vehicle data. The homologation values of CO2 electric range (if ', 'applicable) and fuel consumption may not reflect the actual values \\nof CO2, electric range (if applicable) and fuel consumption, which depend on many factors related, by way of example but not limitation, to the driving style, the route, the weather and road conditions, the condition, use and equipment of the vehicle. \\n \\nThe reported values of CO2, electric range (if applicable) and fuel consumption refer to the basic version of the vehicle and may change during the next configuration phase depending on the', ' type of equipment and / or the size of the tyres which will be selected. \\n \\nThe CO2, electric range (if applicable) and consumption values of the configured vehicle are not definitive and may evolve as a result of changes in the production cycle. In any case, the official CO2, electric range (if applicable) and consumption values of the vehicle purchased will be supplied \\nwith the documents accompanying the vehicle. \\n \\nIn cases where the values of CO2, electric range (if applicable) and fuel consumption ar', 'e relevant for the purposes of calculating taxes and costs related to the vehicle, reference should be made to the applicable laws.\\n600 1.2 100HP HYBRID 6 SPEED AUTO\\n14-11-24 | FIAT CODE 5F3DEC00\\n10\\nTERMS & CONDITIONS\\nTerms & Conditions\\nThe illustrations and descriptions on this configurator are given by way of example. The Manufacturer reserves the right to make any changes of a construction or \\ncommercial nature they feel necessary at any time without prior warning. Fuel consumption and CO₂ figures are ob', 'tained for comparative purposes in accordance with \\nEC directives/regulations and may not be representative of real-life driving conditions.\\nProduct and Prices\\nAll the prices are intended as non-binding suggestions from FCA to its dealers. The prices of the options refer to options added at factory level. It is our intention to \\nalways show the most current prices at the time of selection. However, in certain exceptional cases, the prices may not have been updated.\\n600 1.2 100HP HYBRID 6 SPEED AUTO\\n14-11-24', ' | FIAT CODE 5F3DEC00\\n11\\n.\\nYour Fiat Code is\\n5F3DEC00\\nThe Fiat code and QR Code identify options chosen by you.* Take these codes to your dealer so that your \\nconfiguration can be replicated automatically and you can ask for an estimate for your car.\\nVehicles in stock\\nDealer locator\\nTest drive\\n*After 45 days, the codes may no longer be valid\\n600 1.2 100HP HYBRID 6 SPEED AUTO\\n14-11-24 | FIAT CODE 5F3DEC00\\n12\\n600 1.2 100HP HYBRID 6 SPEED AUTO\\n']\n",
            "Number of chunks: 14\n"
          ]
        }
      ]
    },
    {
      "cell_type": "code",
      "source": [
        "model = AutoModelForCausalLM.from_pretrained(\n",
        "    model_name,\n",
        "    torch_dtype=\"auto\",\n",
        "    device_map=\"auto\"\n",
        ")\n",
        "tokenizer = AutoTokenizer.from_pretrained(model_name)\n",
        "# Add padding token to the tokenizer if not already present\n",
        "if tokenizer.pad_token is None:\n",
        "    tokenizer.pad_token = tokenizer.eos_token  # Use eos_token as pad_token if pad_token is not set"
      ],
      "metadata": {
        "collapsed": true,
        "id": "7T_2QFqhku49"
      },
      "execution_count": 24,
      "outputs": []
    },
    {
      "cell_type": "code",
      "source": [
        "def ask_question(question, chunks):\n",
        "    # Take the first 5 chunks as context, or adjust this number as needed\n",
        "    context = \" \".join(chunks[:50])  # Adjust based on your chunk size\n",
        "\n",
        "    # Format the prompt clearly for question answering\n",
        "    prompt = f\"Context: {context}\\nQuestion: {question}\\nAnswer:\"\n",
        "\n",
        "    # Now, generate the model's response\n",
        "    input_ids = tokenizer(prompt, return_tensors=\"pt\").input_ids.to(model.device)\n",
        "\n",
        "    # Generate the output from the model\n",
        "    output = model.generate(input_ids, max_new_tokens=150)\n",
        "\n",
        "    # Decode the generated response (skip special tokens)\n",
        "    generated_text = tokenizer.decode(output[0], skip_special_tokens=True)\n",
        "\n",
        "    # Extract the answer part (it should be after \"Answer:\")\n",
        "    answer = generated_text.split(\"Answer:\")[1].strip()\n",
        "\n",
        "    return answer\n",
        "\n"
      ],
      "metadata": {
        "id": "y1citaGAn1ky"
      },
      "execution_count": 33,
      "outputs": []
    },
    {
      "cell_type": "code",
      "source": [
        "# Example of asking a question\n",
        "question = \"What is the price of the car?\"\n",
        "response = ask_question(question, chunks)\n",
        "print(response)"
      ],
      "metadata": {
        "colab": {
          "base_uri": "https://localhost:8080/"
        },
        "id": "roZs1v_Bn4Ip",
        "outputId": "eff8904c-d0aa-4eee-8dbe-9319e333de27"
      },
      "execution_count": 34,
      "outputs": [
        {
          "output_type": "stream",
          "name": "stdout",
          "text": [
            "The retail price of the car is £ 23,975.\n"
          ]
        }
      ]
    }
  ]
}